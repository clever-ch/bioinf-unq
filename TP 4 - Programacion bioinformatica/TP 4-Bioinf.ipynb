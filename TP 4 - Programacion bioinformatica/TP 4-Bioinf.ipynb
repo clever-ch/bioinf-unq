{
 "cells": [
  {
   "cell_type": "code",
   "execution_count": 24,
   "metadata": {},
   "outputs": [
    {
     "name": "stdout",
     "output_type": "stream",
     "text": [
      "GCU\n"
     ]
    }
   ],
   "source": [
    "## Definimos un diccionario K,V donde 'K' es la abreviación de una letra de cada aminoácido y 'V' es el Codón ARN\n",
    "\n",
    "dic =   {'A':'GCU', 'R':'AGA', 'N':'AAU' , 'D':'GAU', 'C':'UGC', 'F':'UUU', 'G':'GGC', 'E':'GAA', 'Q':'CAG', \n",
    "         'H':'CAU', 'I':'AUU', 'L':'UUA', 'K':'AAA', 'P':'CCU', 'S':'UCU', 'Y':'UAU', 'T':'ACU', 'W':'UGG', \n",
    "         'V':'GUA', 'M':'AUG'}\n",
    "\n",
    "##TODO: Flata el codón de Stop \"UAA\", que no tiene valor de una letra.\n",
    "\n",
    "items = dic.items()\n",
    "\n",
    "print(dic.get('A'))"
   ]
  },
  {
   "cell_type": "code",
   "execution_count": 23,
   "metadata": {
    "scrolled": true
   },
   "outputs": [],
   "source": [
    "## Definimos Split para convertir un string en una lista de caracteres\n",
    "\n",
    "def split(word): \n",
    "    return [char for char in word]\n",
    "\n",
    "##cadena = \"AGEKGKKIFVQKCSQCHTVCSQCHTVEKGGKHKTGPNEKGKKIFVQKCSQCHTVLHGLFGRKTGQA\"\n",
    "##print(split(cadena))"
   ]
  },
  {
   "cell_type": "code",
   "execution_count": 27,
   "metadata": {},
   "outputs": [
    {
     "name": "stdout",
     "output_type": "stream",
     "text": [
      "GCUGGCGAAAAAGGCAAAAAAAUUUUUGUACAGAAAUGCUCUCAGUGCCAUACUGUAUGCUCUCAGUGCCAUACUGUAGAAAAAGGCGGCAAACAUAAAACUGGCCCUAAUGAAAAAGGCAAAAAAAUUUUUGUACAGAAAUGCUCUCAGUGCCAUACUGUAUUACAUGGCUUAUUUGGCAGAAAAACUGGCCAGGCU\n"
     ]
    }
   ],
   "source": [
    "## a) ¿Podrías escribir un programa que imprima una cadena de ARN codificante para el siguiente\n",
    "##     péptido (cadena corta de aminoácidos)?\n",
    "\n",
    "def split(word): \n",
    "    return [char for char in word]\n",
    "\n",
    "def print_ARN_From_Peptido(strPeptido):\n",
    "    arn = ''\n",
    "    listChar = split(strPeptido)\n",
    "    \n",
    "    for c in listChar:\n",
    "        codon = dic.get(c)\n",
    "        \n",
    "        if(codon != None):\n",
    "            arn += codon\n",
    "            ##print(arn)\n",
    "    \n",
    "    return arn\n",
    "\n",
    "##-----------------------------------------------------\n",
    "\n",
    "## PRUEBO LA FUNCIÓN\n",
    "cadena = \"AGEKGKKIFVQKCSQCHTVCSQCHTVEKGGKHKTGPNEKGKKIFVQKCSQCHTVLHGLFGRKTGQA\"\n",
    "\n",
    "print(print_ARN_From_Peptido(cadena))"
   ]
  },
  {
   "cell_type": "code",
   "execution_count": 51,
   "metadata": {},
   "outputs": [
    {
     "name": "stdout",
     "output_type": "stream",
     "text": [
      "('GCUGGCGAAAAAGGCAAAAAAAUUUUUGUACAGAAAUGCUCUCAGUGCCAUACUGUAUGCUCUCAGUGCCAUACUGUAGAAAAAGGCGGCAAACAUAAAACUGGCCCUAAUGAAAAAGGCAAAAAAAUUUUUGUACAGAAAUGCUCUCAGUGCCAUACUGUAUUACAUGGCUUAUUUGGCAGAAAAACUGGCCAGGCU', 22.727272727272727)\n"
     ]
    }
   ],
   "source": [
    "## b) ¿Podrías hacer que tu programa cuente el contenido de G y C (en términos de porcentaje, respecto\n",
    "##     al largo total de la secuencia) sobre la secuencia de ARN generada?\n",
    "\n",
    "def incrementarSiCorresponde(char):\n",
    "    return (1 if ((char == \"G\") | (char == \"C\")) else 0)\n",
    "\n",
    "\n",
    "def calcularPorcentaje(total, porcion):\n",
    "    return ((porcion * 100) / total)\n",
    "\n",
    "\n",
    "def split(word): \n",
    "    return [char for char in word]\n",
    "\n",
    "\n",
    "def print_ARN_From_Peptido(strPeptido):\n",
    "    arn = ''\n",
    "    cantGC = 0\n",
    "    listChar = split(strPeptido)\n",
    "    \n",
    "    for c in listChar:\n",
    "        cantGC += incrementarSiCorresponde(c)\n",
    "        codon = dic.get(c)\n",
    "        \n",
    "        if(codon != None):\n",
    "            arn += codon\n",
    "\n",
    "    porcentaje = calcularPorcentaje(len(listChar), cantGC)\n",
    "    \n",
    "    ##Retorno ambos valores\n",
    "    return arn, porcentaje\n",
    "\n",
    "##-----------------------------------------------------\n",
    "\n",
    "## PRUEBO LA FUNCIÓN\n",
    "cadena = \"AGEKGKKIFVQKCSQCHTVCSQCHTVEKGGKHKTGPNEKGKKIFVQKCSQCHTVLHGLFGRKTGQA\"\n",
    "\n",
    "print(print_ARN_From_Peptido(cadena))"
   ]
  },
  {
   "cell_type": "code",
   "execution_count": null,
   "metadata": {},
   "outputs": [],
   "source": []
  }
 ],
 "metadata": {
  "kernelspec": {
   "display_name": "Python 3",
   "language": "python",
   "name": "python3"
  },
  "language_info": {
   "codemirror_mode": {
    "name": "ipython",
    "version": 3
   },
   "file_extension": ".py",
   "mimetype": "text/x-python",
   "name": "python",
   "nbconvert_exporter": "python",
   "pygments_lexer": "ipython3",
   "version": "3.7.4"
  }
 },
 "nbformat": 4,
 "nbformat_minor": 2
}
